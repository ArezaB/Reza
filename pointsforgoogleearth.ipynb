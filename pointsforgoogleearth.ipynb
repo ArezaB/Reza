{
  "nbformat": 4,
  "nbformat_minor": 0,
  "metadata": {
    "colab": {
      "provenance": [],
      "authorship_tag": "ABX9TyMDtx9W5VGhIMir4FPD/YCO",
      "include_colab_link": true
    },
    "kernelspec": {
      "name": "python3",
      "display_name": "Python 3"
    },
    "language_info": {
      "name": "python"
    }
  },
  "cells": [
    {
      "cell_type": "markdown",
      "metadata": {
        "id": "view-in-github",
        "colab_type": "text"
      },
      "source": [
        "<a href=\"https://colab.research.google.com/github/ArezaB/Reza/blob/main/pointsforgoogleearth.ipynb\" target=\"_parent\"><img src=\"https://colab.research.google.com/assets/colab-badge.svg\" alt=\"Open In Colab\"/></a>"
      ]
    },
    {
      "cell_type": "code",
      "source": [
        "import os\n",
        "import pandas as pd\n",
        "from pyproj import Proj, transform\n",
        "\n",
        "def utm_to_latlon(easting, northing, zone_number=40, northern_hemisphere=True):\n",
        "    in_proj = Proj(init=f'epsg:326{zone_number}')\n",
        "    out_proj = Proj(init='epsg:4326')  # WGS84\n",
        "\n",
        "    lon, lat = transform(in_proj, out_proj, easting, northing)\n",
        "    return lat, lon\n",
        "\n",
        "def convert_utm_to_latlon(input_csv, output_csv):\n",
        "    # Check if the input file exists\n",
        "    if os.path.exists(input_csv):\n",
        "        # Read the CSV file from the local file path\n",
        "        df = pd.read_csv(input_csv)\n",
        "\n",
        "        # Display the first few rows of the DataFrame\n",
        "        print(df.head())\n",
        "\n",
        "        # Convert UTM to Lat/Lon\n",
        "        df['Latitude'], df['Longitude'] = zip(*df.apply(lambda row: utm_to_latlon(row['Easting'], row['Northing']), axis=1))\n",
        "\n",
        "        # Save the results to a new CSV file\n",
        "        df.to_csv(output_csv, index=False)\n",
        "\n",
        "        print(f\"Conversion completed. Results saved to {output_csv}\")\n",
        "    else:\n",
        "        print(f\"The input file {input_csv} does not exist.\")\n",
        "\n",
        "# Replace with your actual file paths\n",
        "input_file_path = '/content/input_file.csv'\n",
        "output_file_path = '/content/output_file.csv'\n",
        "\n",
        "convert_utm_to_latlon(input_file_path, output_file_path)\n",
        "\n",
        "\n"
      ],
      "metadata": {
        "colab": {
          "base_uri": "https://localhost:8080/"
        },
        "id": "yrRpI-8k8Ouw",
        "outputId": "07eee76c-d58d-4f52-e369-37413ec9266c"
      },
      "execution_count": 23,
      "outputs": [
        {
          "output_type": "stream",
          "name": "stdout",
          "text": [
            "      Easting     Northing\n",
            "0  571196.321  3172959.275\n",
            "1  571220.512  3172962.611\n",
            "2  571239.107  3172944.527\n",
            "3  571304.923  3172996.451\n",
            "4  571305.584  3173026.217\n",
            "Conversion completed. Results saved to /content/output_file.csv\n"
          ]
        }
      ]
    },
    {
      "cell_type": "code",
      "source": [
        "!pip install geopandas shapely\n"
      ],
      "metadata": {
        "colab": {
          "base_uri": "https://localhost:8080/"
        },
        "id": "ABVN8M47Q_E-",
        "outputId": "d57362a7-d278-456c-e765-669609ee3e9f"
      },
      "execution_count": 24,
      "outputs": [
        {
          "output_type": "stream",
          "name": "stdout",
          "text": [
            "Requirement already satisfied: geopandas in /usr/local/lib/python3.10/dist-packages (0.13.2)\n",
            "Requirement already satisfied: shapely in /usr/local/lib/python3.10/dist-packages (2.0.2)\n",
            "Requirement already satisfied: fiona>=1.8.19 in /usr/local/lib/python3.10/dist-packages (from geopandas) (1.9.5)\n",
            "Requirement already satisfied: packaging in /usr/local/lib/python3.10/dist-packages (from geopandas) (23.2)\n",
            "Requirement already satisfied: pandas>=1.1.0 in /usr/local/lib/python3.10/dist-packages (from geopandas) (1.5.3)\n",
            "Requirement already satisfied: pyproj>=3.0.1 in /usr/local/lib/python3.10/dist-packages (from geopandas) (3.6.1)\n",
            "Requirement already satisfied: numpy>=1.14 in /usr/local/lib/python3.10/dist-packages (from shapely) (1.23.5)\n",
            "Requirement already satisfied: attrs>=19.2.0 in /usr/local/lib/python3.10/dist-packages (from fiona>=1.8.19->geopandas) (23.1.0)\n",
            "Requirement already satisfied: certifi in /usr/local/lib/python3.10/dist-packages (from fiona>=1.8.19->geopandas) (2023.11.17)\n",
            "Requirement already satisfied: click~=8.0 in /usr/local/lib/python3.10/dist-packages (from fiona>=1.8.19->geopandas) (8.1.7)\n",
            "Requirement already satisfied: click-plugins>=1.0 in /usr/local/lib/python3.10/dist-packages (from fiona>=1.8.19->geopandas) (1.1.1)\n",
            "Requirement already satisfied: cligj>=0.5 in /usr/local/lib/python3.10/dist-packages (from fiona>=1.8.19->geopandas) (0.7.2)\n",
            "Requirement already satisfied: six in /usr/local/lib/python3.10/dist-packages (from fiona>=1.8.19->geopandas) (1.16.0)\n",
            "Requirement already satisfied: setuptools in /usr/local/lib/python3.10/dist-packages (from fiona>=1.8.19->geopandas) (67.7.2)\n",
            "Requirement already satisfied: python-dateutil>=2.8.1 in /usr/local/lib/python3.10/dist-packages (from pandas>=1.1.0->geopandas) (2.8.2)\n",
            "Requirement already satisfied: pytz>=2020.1 in /usr/local/lib/python3.10/dist-packages (from pandas>=1.1.0->geopandas) (2023.3.post1)\n"
          ]
        }
      ]
    },
    {
      "cell_type": "code",
      "source": [
        "!pip install simplekml\n"
      ],
      "metadata": {
        "colab": {
          "base_uri": "https://localhost:8080/"
        },
        "id": "ObnGikguRVDn",
        "outputId": "60b035c8-885e-4da9-9f5a-3d54a6c9655a"
      },
      "execution_count": 26,
      "outputs": [
        {
          "output_type": "stream",
          "name": "stdout",
          "text": [
            "Collecting simplekml\n",
            "  Downloading simplekml-1.3.6.tar.gz (52 kB)\n",
            "\u001b[2K     \u001b[90m━━━━━━━━━━━━━━━━━━━━━━━━━━━━━━━━━━━━━━━━\u001b[0m \u001b[32m53.0/53.0 kB\u001b[0m \u001b[31m784.1 kB/s\u001b[0m eta \u001b[36m0:00:00\u001b[0m\n",
            "\u001b[?25h  Preparing metadata (setup.py) ... \u001b[?25l\u001b[?25hdone\n",
            "Building wheels for collected packages: simplekml\n",
            "  Building wheel for simplekml (setup.py) ... \u001b[?25l\u001b[?25hdone\n",
            "  Created wheel for simplekml: filename=simplekml-1.3.6-py3-none-any.whl size=65860 sha256=cdf5de26d6126e099edef61ee6dac53b63127bbac89c205f900de89bc30c01f9\n",
            "  Stored in directory: /root/.cache/pip/wheels/16/7c/e6/621a95f24bd1ff987368f1c37881ffe013433ff6b413d87fcb\n",
            "Successfully built simplekml\n",
            "Installing collected packages: simplekml\n",
            "Successfully installed simplekml-1.3.6\n"
          ]
        }
      ]
    },
    {
      "cell_type": "code",
      "source": [
        "import geopandas as gpd\n",
        "from shapely.geometry import Point, LineString\n",
        "import simplekml\n",
        "\n",
        "# Load the CSV file with the converted UTM to Lat/Lon coordinates\n",
        "file_path = '/content/output_file.csv'\n",
        "df = pd.read_csv(file_path)\n",
        "\n",
        "# Create a GeoDataFrame with Point geometries\n",
        "geometry = [Point(lon, lat) for lon, lat in zip(df['Longitude'], df['Latitude'])]\n",
        "gdf = gpd.GeoDataFrame(df, geometry=geometry, crs='EPSG:4326')  # WGS84\n",
        "\n",
        "# Create a LineString connecting the points in order\n",
        "line = LineString(gdf['geometry'])\n",
        "\n",
        "# Save the LineString to a KML file using simplekml\n",
        "output_kml_path = '/content/line.kml'\n",
        "kml = simplekml.Kml()\n",
        "linestring = kml.newlinestring(name='Connected Line', coords=list(line.coords))\n",
        "kml.save(output_kml_path)\n",
        "\n",
        "print(f\"Connected line saved to {output_kml_path}\")\n",
        "\n"
      ],
      "metadata": {
        "colab": {
          "base_uri": "https://localhost:8080/"
        },
        "id": "nJ9pzKCwRazB",
        "outputId": "6448714c-7c7b-494e-d05d-19a8c22fe30d"
      },
      "execution_count": 28,
      "outputs": [
        {
          "output_type": "stream",
          "name": "stdout",
          "text": [
            "Connected line saved to /content/line.kml\n"
          ]
        }
      ]
    }
  ]
}